{
  "cells": [
    {
      "attachments": {},
      "cell_type": "markdown",
      "metadata": {},
      "source": [
        "## Install necessary packages"
      ]
    },
    {
      "cell_type": "code",
      "execution_count": 1,
      "metadata": {
        "colab": {
          "base_uri": "https://localhost:8080/"
        },
        "id": "P6zBBVExbN-b",
        "outputId": "6521b9ce-088e-4d78-fe4e-18d6c9fa0071"
      },
      "outputs": [
        {
          "name": "stdout",
          "output_type": "stream",
          "text": [
            "Looking in indexes: https://pypi.org/simple, https://us-python.pkg.dev/colab-wheels/public/simple/\n",
            "Collecting openai\n",
            "  Downloading openai-0.27.3-py3-none-any.whl (70 kB)\n",
            "\u001b[2K     \u001b[90m━━━━━━━━━━━━━━━━━━━━━━━━━━━━━━━━━━━━━━━━\u001b[0m \u001b[32m70.2/70.2 KB\u001b[0m \u001b[31m2.6 MB/s\u001b[0m eta \u001b[36m0:00:00\u001b[0m\n",
            "\u001b[?25hCollecting aiohttp\n",
            "  Downloading aiohttp-3.8.4-cp39-cp39-manylinux_2_17_x86_64.manylinux2014_x86_64.whl (1.0 MB)\n",
            "\u001b[2K     \u001b[90m━━━━━━━━━━━━━━━━━━━━━━━━━━━━━━━━━━━━━━━━\u001b[0m \u001b[32m1.0/1.0 MB\u001b[0m \u001b[31m20.1 MB/s\u001b[0m eta \u001b[36m0:00:00\u001b[0m\n",
            "\u001b[?25hRequirement already satisfied: requests>=2.20 in /usr/local/lib/python3.9/dist-packages (from openai) (2.27.1)\n",
            "Requirement already satisfied: tqdm in /usr/local/lib/python3.9/dist-packages (from openai) (4.65.0)\n",
            "Requirement already satisfied: certifi>=2017.4.17 in /usr/local/lib/python3.9/dist-packages (from requests>=2.20->openai) (2022.12.7)\n",
            "Requirement already satisfied: idna<4,>=2.5 in /usr/local/lib/python3.9/dist-packages (from requests>=2.20->openai) (3.4)\n",
            "Requirement already satisfied: charset-normalizer~=2.0.0 in /usr/local/lib/python3.9/dist-packages (from requests>=2.20->openai) (2.0.12)\n",
            "Requirement already satisfied: urllib3<1.27,>=1.21.1 in /usr/local/lib/python3.9/dist-packages (from requests>=2.20->openai) (1.26.15)\n",
            "Collecting async-timeout<5.0,>=4.0.0a3\n",
            "  Downloading async_timeout-4.0.2-py3-none-any.whl (5.8 kB)\n",
            "Collecting aiosignal>=1.1.2\n",
            "  Downloading aiosignal-1.3.1-py3-none-any.whl (7.6 kB)\n",
            "Collecting yarl<2.0,>=1.0\n",
            "  Downloading yarl-1.8.2-cp39-cp39-manylinux_2_17_x86_64.manylinux2014_x86_64.whl (264 kB)\n",
            "\u001b[2K     \u001b[90m━━━━━━━━━━━━━━━━━━━━━━━━━━━━━━━━━━━━━━\u001b[0m \u001b[32m264.6/264.6 KB\u001b[0m \u001b[31m22.3 MB/s\u001b[0m eta \u001b[36m0:00:00\u001b[0m\n",
            "\u001b[?25hCollecting multidict<7.0,>=4.5\n",
            "  Downloading multidict-6.0.4-cp39-cp39-manylinux_2_17_x86_64.manylinux2014_x86_64.whl (114 kB)\n",
            "\u001b[2K     \u001b[90m━━━━━━━━━━━━━━━━━━━━━━━━━━━━━━━━━━━━━━\u001b[0m \u001b[32m114.2/114.2 KB\u001b[0m \u001b[31m11.7 MB/s\u001b[0m eta \u001b[36m0:00:00\u001b[0m\n",
            "\u001b[?25hCollecting frozenlist>=1.1.1\n",
            "  Downloading frozenlist-1.3.3-cp39-cp39-manylinux_2_5_x86_64.manylinux1_x86_64.manylinux_2_17_x86_64.manylinux2014_x86_64.whl (158 kB)\n",
            "\u001b[2K     \u001b[90m━━━━━━━━━━━━━━━━━━━━━━━━━━━━━━━━━━━━━━\u001b[0m \u001b[32m158.8/158.8 KB\u001b[0m \u001b[31m15.0 MB/s\u001b[0m eta \u001b[36m0:00:00\u001b[0m\n",
            "\u001b[?25hRequirement already satisfied: attrs>=17.3.0 in /usr/local/lib/python3.9/dist-packages (from aiohttp->openai) (22.2.0)\n",
            "Installing collected packages: multidict, frozenlist, async-timeout, yarl, aiosignal, aiohttp, openai\n",
            "Successfully installed aiohttp-3.8.4 aiosignal-1.3.1 async-timeout-4.0.2 frozenlist-1.3.3 multidict-6.0.4 openai-0.27.3 yarl-1.8.2\n",
            "Looking in indexes: https://pypi.org/simple, https://us-python.pkg.dev/colab-wheels/public/simple/\n",
            "Collecting llama-index\n",
            "  Downloading llama_index-0.5.7.tar.gz (165 kB)\n",
            "\u001b[2K     \u001b[90m━━━━━━━━━━━━━━━━━━━━━━━━━━━━━━━━━━━━━━━\u001b[0m \u001b[32m165.3/165.3 KB\u001b[0m \u001b[31m4.3 MB/s\u001b[0m eta \u001b[36m0:00:00\u001b[0m\n",
            "\u001b[?25h  Preparing metadata (setup.py) ... \u001b[?25l\u001b[?25hdone\n",
            "Collecting dataclasses_json\n",
            "  Downloading dataclasses_json-0.5.7-py3-none-any.whl (25 kB)\n",
            "Collecting langchain\n",
            "  Downloading langchain-0.0.130-py3-none-any.whl (472 kB)\n",
            "\u001b[2K     \u001b[90m━━━━━━━━━━━━━━━━━━━━━━━━━━━━━━━━━━━━━━\u001b[0m \u001b[32m472.9/472.9 KB\u001b[0m \u001b[31m17.7 MB/s\u001b[0m eta \u001b[36m0:00:00\u001b[0m\n",
            "\u001b[?25hRequirement already satisfied: numpy in /usr/local/lib/python3.9/dist-packages (from llama-index) (1.22.4)\n",
            "Requirement already satisfied: tenacity<9.0.0,>=8.2.0 in /usr/local/lib/python3.9/dist-packages (from llama-index) (8.2.2)\n",
            "Requirement already satisfied: openai>=0.26.4 in /usr/local/lib/python3.9/dist-packages (from llama-index) (0.27.3)\n",
            "Requirement already satisfied: pandas in /usr/local/lib/python3.9/dist-packages (from llama-index) (1.4.4)\n",
            "Collecting tiktoken\n",
            "  Downloading tiktoken-0.3.3-cp39-cp39-manylinux_2_17_x86_64.manylinux2014_x86_64.whl (1.7 MB)\n",
            "\u001b[2K     \u001b[90m━━━━━━━━━━━━━━━━━━━━━━━━━━━━━━━━━━━━━━━━\u001b[0m \u001b[32m1.7/1.7 MB\u001b[0m \u001b[31m53.2 MB/s\u001b[0m eta \u001b[36m0:00:00\u001b[0m\n",
            "\u001b[?25hRequirement already satisfied: requests>=2.20 in /usr/local/lib/python3.9/dist-packages (from openai>=0.26.4->llama-index) (2.27.1)\n",
            "Requirement already satisfied: aiohttp in /usr/local/lib/python3.9/dist-packages (from openai>=0.26.4->llama-index) (3.8.4)\n",
            "Requirement already satisfied: tqdm in /usr/local/lib/python3.9/dist-packages (from openai>=0.26.4->llama-index) (4.65.0)\n",
            "Collecting marshmallow-enum<2.0.0,>=1.5.1\n",
            "  Downloading marshmallow_enum-1.5.1-py2.py3-none-any.whl (4.2 kB)\n",
            "Collecting typing-inspect>=0.4.0\n",
            "  Downloading typing_inspect-0.8.0-py3-none-any.whl (8.7 kB)\n",
            "Collecting marshmallow<4.0.0,>=3.3.0\n",
            "  Downloading marshmallow-3.19.0-py3-none-any.whl (49 kB)\n",
            "\u001b[2K     \u001b[90m━━━━━━━━━━━━━━━━━━━━━━━━━━━━━━━━━━━━━━━━\u001b[0m \u001b[32m49.1/49.1 KB\u001b[0m \u001b[31m4.8 MB/s\u001b[0m eta \u001b[36m0:00:00\u001b[0m\n",
            "\u001b[?25hRequirement already satisfied: SQLAlchemy<2,>=1 in /usr/local/lib/python3.9/dist-packages (from langchain->llama-index) (1.4.47)\n",
            "Requirement already satisfied: PyYAML>=5.4.1 in /usr/local/lib/python3.9/dist-packages (from langchain->llama-index) (6.0)\n",
            "Requirement already satisfied: pydantic<2,>=1 in /usr/local/lib/python3.9/dist-packages (from langchain->llama-index) (1.10.7)\n",
            "Requirement already satisfied: python-dateutil>=2.8.1 in /usr/local/lib/python3.9/dist-packages (from pandas->llama-index) (2.8.2)\n",
            "Requirement already satisfied: pytz>=2020.1 in /usr/local/lib/python3.9/dist-packages (from pandas->llama-index) (2022.7.1)\n",
            "Requirement already satisfied: regex>=2022.1.18 in /usr/local/lib/python3.9/dist-packages (from tiktoken->llama-index) (2022.10.31)\n",
            "Requirement already satisfied: frozenlist>=1.1.1 in /usr/local/lib/python3.9/dist-packages (from aiohttp->openai>=0.26.4->llama-index) (1.3.3)\n",
            "Requirement already satisfied: aiosignal>=1.1.2 in /usr/local/lib/python3.9/dist-packages (from aiohttp->openai>=0.26.4->llama-index) (1.3.1)\n",
            "Requirement already satisfied: yarl<2.0,>=1.0 in /usr/local/lib/python3.9/dist-packages (from aiohttp->openai>=0.26.4->llama-index) (1.8.2)\n",
            "Requirement already satisfied: multidict<7.0,>=4.5 in /usr/local/lib/python3.9/dist-packages (from aiohttp->openai>=0.26.4->llama-index) (6.0.4)\n",
            "Requirement already satisfied: charset-normalizer<4.0,>=2.0 in /usr/local/lib/python3.9/dist-packages (from aiohttp->openai>=0.26.4->llama-index) (2.0.12)\n",
            "Requirement already satisfied: async-timeout<5.0,>=4.0.0a3 in /usr/local/lib/python3.9/dist-packages (from aiohttp->openai>=0.26.4->llama-index) (4.0.2)\n",
            "Requirement already satisfied: attrs>=17.3.0 in /usr/local/lib/python3.9/dist-packages (from aiohttp->openai>=0.26.4->llama-index) (22.2.0)\n",
            "Requirement already satisfied: packaging>=17.0 in /usr/local/lib/python3.9/dist-packages (from marshmallow<4.0.0,>=3.3.0->dataclasses_json->llama-index) (23.0)\n",
            "Requirement already satisfied: typing-extensions>=4.2.0 in /usr/local/lib/python3.9/dist-packages (from pydantic<2,>=1->langchain->llama-index) (4.5.0)\n",
            "Requirement already satisfied: six>=1.5 in /usr/local/lib/python3.9/dist-packages (from python-dateutil>=2.8.1->pandas->llama-index) (1.16.0)\n",
            "Requirement already satisfied: idna<4,>=2.5 in /usr/local/lib/python3.9/dist-packages (from requests>=2.20->openai>=0.26.4->llama-index) (3.4)\n",
            "Requirement already satisfied: urllib3<1.27,>=1.21.1 in /usr/local/lib/python3.9/dist-packages (from requests>=2.20->openai>=0.26.4->llama-index) (1.26.15)\n",
            "Requirement already satisfied: certifi>=2017.4.17 in /usr/local/lib/python3.9/dist-packages (from requests>=2.20->openai>=0.26.4->llama-index) (2022.12.7)\n",
            "Requirement already satisfied: greenlet!=0.4.17 in /usr/local/lib/python3.9/dist-packages (from SQLAlchemy<2,>=1->langchain->llama-index) (2.0.2)\n",
            "Collecting mypy-extensions>=0.3.0\n",
            "  Downloading mypy_extensions-1.0.0-py3-none-any.whl (4.7 kB)\n",
            "Building wheels for collected packages: llama-index\n",
            "  Building wheel for llama-index (setup.py) ... \u001b[?25l\u001b[?25hdone\n",
            "  Created wheel for llama-index: filename=llama_index-0.5.7-py3-none-any.whl size=248524 sha256=2870406e85b636529e137e19b1b765a896b609ddb977a7f31da32278917c64df\n",
            "  Stored in directory: /root/.cache/pip/wheels/74/ab/c0/d14c48408ddc206665f754904c29e4669a14f2f83a1376f69c\n",
            "Successfully built llama-index\n",
            "Installing collected packages: mypy-extensions, marshmallow, typing-inspect, tiktoken, marshmallow-enum, dataclasses_json, langchain, llama-index\n",
            "Successfully installed dataclasses_json-0.5.7 langchain-0.0.130 llama-index-0.5.7 marshmallow-3.19.0 marshmallow-enum-1.5.1 mypy-extensions-1.0.0 tiktoken-0.3.3 typing-inspect-0.8.0\n",
            "Looking in indexes: https://pypi.org/simple, https://us-python.pkg.dev/colab-wheels/public/simple/\n",
            "Collecting PyPDF2\n",
            "  Downloading pypdf2-3.0.1-py3-none-any.whl (232 kB)\n",
            "\u001b[2K     \u001b[90m━━━━━━━━━━━━━━━━━━━━━━━━━━━━━━━━━━━━━━━\u001b[0m \u001b[32m232.6/232.6 KB\u001b[0m \u001b[31m5.9 MB/s\u001b[0m eta \u001b[36m0:00:00\u001b[0m\n",
            "\u001b[?25hRequirement already satisfied: typing_extensions>=3.10.0.0 in /usr/local/lib/python3.9/dist-packages (from PyPDF2) (4.5.0)\n",
            "Installing collected packages: PyPDF2\n",
            "Successfully installed PyPDF2-3.0.1\n",
            "Looking in indexes: https://pypi.org/simple, https://us-python.pkg.dev/colab-wheels/public/simple/\n",
            "Collecting guardrails-ai\n",
            "  Downloading guardrails_ai-0.1.5-py2.py3-none-any.whl (46 kB)\n",
            "\u001b[2K     \u001b[90m━━━━━━━━━━━━━━━━━━━━━━━━━━━━━━━━━━━━━━━━\u001b[0m \u001b[32m46.1/46.1 KB\u001b[0m \u001b[31m2.0 MB/s\u001b[0m eta \u001b[36m0:00:00\u001b[0m\n",
            "\u001b[?25hRequirement already satisfied: pydantic in /usr/local/lib/python3.9/dist-packages (from guardrails-ai) (1.10.7)\n",
            "Requirement already satisfied: openai in /usr/local/lib/python3.9/dist-packages (from guardrails-ai) (0.27.3)\n",
            "Requirement already satisfied: lxml in /usr/local/lib/python3.9/dist-packages (from guardrails-ai) (4.9.2)\n",
            "Collecting eliot-tree\n",
            "  Downloading eliot_tree-21.0.0-py3-none-any.whl (40 kB)\n",
            "\u001b[2K     \u001b[90m━━━━━━━━━━━━━━━━━━━━━━━━━━━━━━━━━━━━━━━━\u001b[0m \u001b[32m40.1/40.1 KB\u001b[0m \u001b[31m4.0 MB/s\u001b[0m eta \u001b[36m0:00:00\u001b[0m\n",
            "\u001b[?25hRequirement already satisfied: rich in /usr/local/lib/python3.9/dist-packages (from guardrails-ai) (13.3.3)\n",
            "Collecting eliot\n",
            "  Downloading eliot-1.14.0-py2.py3-none-any.whl (114 kB)\n",
            "\u001b[2K     \u001b[90m━━━━━━━━━━━━━━━━━━━━━━━━━━━━━━━━━━━━━━━\u001b[0m \u001b[32m114.8/114.8 KB\u001b[0m \u001b[31m6.3 MB/s\u001b[0m eta \u001b[36m0:00:00\u001b[0m\n",
            "\u001b[?25hRequirement already satisfied: six in /usr/local/lib/python3.9/dist-packages (from eliot->guardrails-ai) (1.16.0)\n",
            "Requirement already satisfied: pyrsistent>=0.11.8 in /usr/local/lib/python3.9/dist-packages (from eliot->guardrails-ai) (0.19.3)\n",
            "Collecting zope.interface\n",
            "  Downloading zope.interface-6.0-cp39-cp39-manylinux_2_5_x86_64.manylinux1_x86_64.manylinux_2_17_x86_64.manylinux2014_x86_64.whl (246 kB)\n",
            "\u001b[2K     \u001b[90m━━━━━━━━━━━━━━━━━━━━━━━━━━━━━━━━━━━━━━\u001b[0m \u001b[32m246.1/246.1 KB\u001b[0m \u001b[31m13.4 MB/s\u001b[0m eta \u001b[36m0:00:00\u001b[0m\n",
            "\u001b[?25hCollecting boltons>=19.0.1\n",
            "  Downloading boltons-23.0.0-py2.py3-none-any.whl (194 kB)\n",
            "\u001b[2K     \u001b[90m━━━━━━━━━━━━━━━━━━━━━━━━━━━━━━━━━━━━━━\u001b[0m \u001b[32m194.8/194.8 KB\u001b[0m \u001b[31m18.5 MB/s\u001b[0m eta \u001b[36m0:00:00\u001b[0m\n",
            "\u001b[?25hCollecting jmespath>=0.7.1\n",
            "  Downloading jmespath-1.0.1-py3-none-any.whl (20 kB)\n",
            "Requirement already satisfied: toolz>=0.8.2 in /usr/local/lib/python3.9/dist-packages (from eliot-tree->guardrails-ai) (0.12.0)\n",
            "Collecting colored>=1.4.2\n",
            "  Downloading colored-1.4.4.tar.gz (36 kB)\n",
            "  Preparing metadata (setup.py) ... \u001b[?25l\u001b[?25hdone\n",
            "Collecting iso8601>=0.1.10\n",
            "  Downloading iso8601-1.1.0-py3-none-any.whl (9.9 kB)\n",
            "Requirement already satisfied: requests>=2.20 in /usr/local/lib/python3.9/dist-packages (from openai->guardrails-ai) (2.27.1)\n",
            "Requirement already satisfied: tqdm in /usr/local/lib/python3.9/dist-packages (from openai->guardrails-ai) (4.65.0)\n",
            "Requirement already satisfied: aiohttp in /usr/local/lib/python3.9/dist-packages (from openai->guardrails-ai) (3.8.4)\n",
            "Requirement already satisfied: typing-extensions>=4.2.0 in /usr/local/lib/python3.9/dist-packages (from pydantic->guardrails-ai) (4.5.0)\n",
            "Requirement already satisfied: markdown-it-py<3.0.0,>=2.2.0 in /usr/local/lib/python3.9/dist-packages (from rich->guardrails-ai) (2.2.0)\n",
            "Requirement already satisfied: pygments<3.0.0,>=2.13.0 in /usr/local/lib/python3.9/dist-packages (from rich->guardrails-ai) (2.14.0)\n",
            "Requirement already satisfied: mdurl~=0.1 in /usr/local/lib/python3.9/dist-packages (from markdown-it-py<3.0.0,>=2.2.0->rich->guardrails-ai) (0.1.2)\n",
            "Requirement already satisfied: idna<4,>=2.5 in /usr/local/lib/python3.9/dist-packages (from requests>=2.20->openai->guardrails-ai) (3.4)\n",
            "Requirement already satisfied: charset-normalizer~=2.0.0 in /usr/local/lib/python3.9/dist-packages (from requests>=2.20->openai->guardrails-ai) (2.0.12)\n",
            "Requirement already satisfied: urllib3<1.27,>=1.21.1 in /usr/local/lib/python3.9/dist-packages (from requests>=2.20->openai->guardrails-ai) (1.26.15)\n",
            "Requirement already satisfied: certifi>=2017.4.17 in /usr/local/lib/python3.9/dist-packages (from requests>=2.20->openai->guardrails-ai) (2022.12.7)\n",
            "Requirement already satisfied: aiosignal>=1.1.2 in /usr/local/lib/python3.9/dist-packages (from aiohttp->openai->guardrails-ai) (1.3.1)\n",
            "Requirement already satisfied: frozenlist>=1.1.1 in /usr/local/lib/python3.9/dist-packages (from aiohttp->openai->guardrails-ai) (1.3.3)\n",
            "Requirement already satisfied: attrs>=17.3.0 in /usr/local/lib/python3.9/dist-packages (from aiohttp->openai->guardrails-ai) (22.2.0)\n",
            "Requirement already satisfied: async-timeout<5.0,>=4.0.0a3 in /usr/local/lib/python3.9/dist-packages (from aiohttp->openai->guardrails-ai) (4.0.2)\n",
            "Requirement already satisfied: multidict<7.0,>=4.5 in /usr/local/lib/python3.9/dist-packages (from aiohttp->openai->guardrails-ai) (6.0.4)\n",
            "Requirement already satisfied: yarl<2.0,>=1.0 in /usr/local/lib/python3.9/dist-packages (from aiohttp->openai->guardrails-ai) (1.8.2)\n",
            "Requirement already satisfied: setuptools in /usr/local/lib/python3.9/dist-packages (from zope.interface->eliot->guardrails-ai) (67.6.1)\n",
            "Building wheels for collected packages: colored\n",
            "  Building wheel for colored (setup.py) ... \u001b[?25l\u001b[?25hdone\n",
            "  Created wheel for colored: filename=colored-1.4.4-py3-none-any.whl size=14268 sha256=01520a3d9bbb423d1c7293c280b92bd9f0ce9bd9d5e54fc75d01081962ea0381\n",
            "  Stored in directory: /root/.cache/pip/wheels/7a/f5/27/54cfa98930f018369067d8d02e508e053b1fec3704c258916b\n",
            "Successfully built colored\n",
            "Installing collected packages: colored, boltons, zope.interface, jmespath, iso8601, eliot, eliot-tree, guardrails-ai\n",
            "Successfully installed boltons-23.0.0 colored-1.4.4 eliot-1.14.0 eliot-tree-21.0.0 guardrails-ai-0.1.5 iso8601-1.1.0 jmespath-1.0.1 zope.interface-6.0\n"
          ]
        }
      ],
      "source": [
        "!pip install openai\n",
        "!pip install llama-index\n",
        "!pip install PyPDF2\n",
        "!pip install guardrails-ai"
      ]
    },
    {
      "cell_type": "code",
      "execution_count": 2,
      "metadata": {
        "id": "qBYfZO3ycGyV"
      },
      "outputs": [],
      "source": [
        "from llama_index import GPTSimpleVectorIndex, SimpleDirectoryReader\n",
        "from llama_index.output_parsers import GuardrailsOutputParser\n",
        "from llama_index.llm_predictor import StructuredLLMPredictor\n",
        "from llama_index.prompts.prompts import QuestionAnswerPrompt, RefinePrompt\n",
        "from llama_index.prompts.default_prompts import DEFAULT_TEXT_QA_PROMPT_TMPL, DEFAULT_REFINE_PROMPT_TMPL\n",
        "\n",
        "import pandas as pd\n",
        "import json"
      ]
    },
    {
      "cell_type": "code",
      "execution_count": 16,
      "metadata": {
        "colab": {
          "base_uri": "https://localhost:8080/"
        },
        "id": "jQgS9jSliOIn",
        "outputId": "8ad62133-7a32-4f10-dbb6-1d50daa53148"
      },
      "outputs": [
        {
          "name": "stdout",
          "output_type": "stream",
          "text": [
            "Archive:  data.zip\n",
            "   creating: data/\n",
            "  inflating: data/.DS_Store          \n",
            "replace __MACOSX/data/._.DS_Store? [y]es, [n]o, [A]ll, [N]one, [r]ename: yes\n",
            "  inflating: __MACOSX/data/._.DS_Store  \n",
            "   creating: data/swiggy2/\n",
            "   creating: data/swiggy3/\n",
            "   creating: data/zomato1/\n",
            "   creating: data/swiggy1/\n",
            "   creating: data/zomato2/\n",
            "   creating: data/zomato3/\n",
            "  inflating: data/swiggy2/swiggy2.pdf  \n",
            "  inflating: __MACOSX/data/swiggy2/._swiggy2.pdf  \n",
            "  inflating: data/swiggy3/swiggy3.pdf  \n",
            "  inflating: __MACOSX/data/swiggy3/._swiggy3.pdf  \n",
            "  inflating: data/zomato1/zomato.pdf  \n",
            "  inflating: __MACOSX/data/zomato1/._zomato.pdf  \n",
            "  inflating: data/swiggy1/swiggy.pdf  \n",
            "  inflating: __MACOSX/data/swiggy1/._swiggy.pdf  \n",
            "  inflating: data/zomato2/zomato2.pdf  \n",
            "  inflating: __MACOSX/data/zomato2/._zomato2.pdf  \n",
            "  inflating: data/zomato3/zomato3.pdf  \n",
            "  inflating: __MACOSX/data/zomato3/._zomato3.pdf  \n"
          ]
        }
      ],
      "source": [
        "!unzip data.zip"
      ]
    },
    {
      "attachments": {},
      "cell_type": "markdown",
      "metadata": {
        "id": "H4C_ldbVL193"
      },
      "source": [
        "## Using Guardrails for output \n",
        "Look at image below. Somehow on github jupyter notebook is hiding the xml type contents from below code cell (rail_spec=\"\"\"....\"\"\"). Although when you clone and use this notebook it is visible.\n",
        "\n",
        "![image](./images/rail_spec.png)\n"
      ]
    },
    {
      "cell_type": "code",
      "execution_count": null,
      "metadata": {
        "id": "NWPIhlLGi_re"
      },
      "outputs": [],
      "source": [
        "rail_spec = \"\"\"\n",
        "<rail version=\"0.1\">\n",
        "\n",
        "<output>\n",
        "    <object name=\"bill_info\">\n",
        "        <string name=\"invoice_number\" description=\"invoice or order\" />\n",
        "        <string name=\"restaurant_name\" description=\"name of restaurant\" />\n",
        "        <float name=\"total_bill\" description=\"total net payable amount\" />\n",
        "        <date name=\"invoice_date\" description=\"invoice date\" date-format=\"%Y-%m-%d\" />\n",
        "        <list\n",
        "            name=\"food_items\"\n",
        "            description=\"Food items which was ordered. Each food item should be classified into a separate item in the list.\">\n",
        "            <object>\n",
        "                <string \n",
        "                    name=\"food_item\" \n",
        "                    description=\"food, desrciption or particulars which has been purchased\"\n",
        "                />\n",
        "                <float\n",
        "                    name=\"cost_price\"\n",
        "                    description=\"What was the total cost of item\"\n",
        "                    on-fail-valid-choices=\"reask\"\n",
        "                />\n",
        "            </object>\n",
        "        </list>\n",
        "    </object>\n",
        "</output>\n",
        "\n",
        "<prompt>\n",
        "\n",
        "Query string here.\n",
        "\n",
        "@xml_prefix_prompt\n",
        "\n",
        "{output_schema}\n",
        "\n",
        "@json_suffix_prompt_v2_wo_none\n",
        "</prompt>\n",
        "</rail>\n",
        "\"\"\""
      ]
    },
    {
      "cell_type": "code",
      "execution_count": 18,
      "metadata": {
        "id": "dS0Rkuzdlon6"
      },
      "outputs": [],
      "source": [
        "import openai\n",
        "import os\n",
        "\n",
        "# Set your OpenAI API key\n",
        "os.environ[\"OPENAI_API_KEY\"] = \"...\" # place your key here"
      ]
    },
    {
      "cell_type": "markdown",
      "metadata": {
        "id": "La9fsdqZL_Rk"
      },
      "source": [
        "## Eample with one pdf file"
      ]
    },
    {
      "cell_type": "code",
      "execution_count": 20,
      "metadata": {
        "id": "8dCl4R6OlT2q"
      },
      "outputs": [],
      "source": [
        "# load documents, build index\n",
        "llm_predictor = StructuredLLMPredictor()\n",
        "documents = SimpleDirectoryReader('./data/swiggy1').load_data()\n",
        "index = GPTSimpleVectorIndex.from_documents(documents)"
      ]
    },
    {
      "cell_type": "code",
      "execution_count": 21,
      "metadata": {
        "id": "O77WjTrFlbWW"
      },
      "outputs": [],
      "source": [
        "# define output parser\n",
        "output_parser = GuardrailsOutputParser.from_rail_string(rail_spec, llm=llm_predictor.llm)\n",
        "\n",
        "# format each prompt with output parser instructions\n",
        "fmt_qa_tmpl = output_parser.format(DEFAULT_TEXT_QA_PROMPT_TMPL)\n",
        "fmt_refine_tmpl = output_parser.format(DEFAULT_REFINE_PROMPT_TMPL)\n",
        "\n",
        "qa_prompt = QuestionAnswerPrompt(fmt_qa_tmpl, output_parser=output_parser)\n",
        "refine_prompt = RefinePrompt(fmt_refine_tmpl, output_parser=output_parser)"
      ]
    },
    {
      "cell_type": "code",
      "execution_count": 22,
      "metadata": {
        "colab": {
          "base_uri": "https://localhost:8080/"
        },
        "id": "qfODWfialbTP",
        "outputId": "fdb19fb9-898d-4875-8234-36b2c0bf034d"
      },
      "outputs": [
        {
          "name": "stdout",
          "output_type": "stream",
          "text": [
            "\n",
            "{\n",
            "    \"bill_info\": {\n",
            "        \"invoice_number\": \"0217048033000150\",\n",
            "        \"restaurant_name\": \"Chinese BAE\",\n",
            "        \"total_bill\": 203.70,\n",
            "        \"invoice_date\": \"2023-03-30\",\n",
            "        \"food_items\": [\n",
            "            {\n",
            "                \"food_item\": \"Veg Schezwan Fried Rice\",\n",
            "                \"cost_price\": 179.00\n",
            "            },\n",
            "            {\n",
            "                \"food_item\": \"Order Packing Charges\",\n",
            "                \"cost_price\": 15.00\n",
            "            }\n",
            "        ]\n",
            "    }\n",
            "}\n"
          ]
        }
      ],
      "source": [
        "# obtain a structured response\n",
        "response = index.query(\n",
        "    \"What are the food items purchased and its cost?\", \n",
        "    text_qa_template=qa_prompt, \n",
        "    refine_template=refine_prompt, \n",
        "    #llm_predictor=llm_predictor\n",
        ")\n",
        "print(response)"
      ]
    },
    {
      "cell_type": "markdown",
      "metadata": {
        "id": "AnC-Jw_n6fMY"
      },
      "source": [
        "## To get source info"
      ]
    },
    {
      "cell_type": "code",
      "execution_count": 23,
      "metadata": {
        "colab": {
          "base_uri": "https://localhost:8080/"
        },
        "id": "ZEQjkI0dlbQh",
        "outputId": "5e1adae3-107d-4ca6-9e38-4ea45410713d"
      },
      "outputs": [
        {
          "name": "stdout",
          "output_type": "stream",
          "text": [
            "> Source (Doc id: 47ca3892-f698-4c8f-a82b-dba1d6133427): Taxes Rate\n",
            "IGST 0% 0.00\n",
            "CGST 2.5% 4.85\n",
            "SGST/UTGST 2.5% 4.85\n",
            "Total taxes 9.70\n",
            "Invoice Total 203.70...\n",
            "--------------------\n",
            "[NodeWithScore(node=Node(text=\"Taxes Rate\\nIGST 0% 0.00\\nCGST 2.5% 4.85\\nSGST/UTGST 2.5% 4.85\\nTotal taxes 9.70\\nInvoice Total 203.70\\nTAX INVOICE\\nInvoice To: Vikash Invoice issued by Bundl Technologies Private \\nLimited on behalf of:\\nGSTIN: Unregistered Restaurant Name: Chinese BAE\\nCustomer Address: 4A, 4th floor, #1325, 32F cross road, 4th T Block \\nEast, Pattabhirama Nagar, Jayanagar, Bengaluru, \\nKarnataka, IndiaRestaurant GSTIN: 29CITPS2827J3ZB\\nOrder ID: 163271281959 Address: NO.805/A, 1ST FLOOR, \\n7TH CROSS, BTM \\nLAYOUT 2ND STAGE, \\nMICO LAYOUT, \\nBANGALORE., B.B.M.P \\nSouth (Karnataka) - 560076\\nCity: Bangalore\\nState: Karnataka\\nDocument: INV Place of Supply: Karnataka\\nInvoice No: 0217048033000150 Service Description: Restaurant Service\\nDate of Invoice: 30-03-2023 Category: B2C\\nHSN Code: 996331 Reverse Charges Applicable: No\\nSr No Description Unit Of Measure Quantity Unit Price Amount(Rs.) Discount Net Assessable Value(Rs.)\\n1. Veg Schezwan Fried Rice OTH 1 249.00 249.00 70.00 179.00\\n2. Order Packing Charges OTH 1 15.00 15.00 0.00 15.00\\nSubtotal 194.00\\nInvoice total in words Two Hundred Three Rupees Seventy Paise Only\\nAuthorized SignatureDigitally Signed by \\nBundl Technologies Private Limited.\\n30-03-2023\\nDetails of ECO under GST\\nName: Bundl Technologies of Private Limited(Swiggy)\\nAddress: No 55, Sy No 8 to 14, I & J block, Ground Floor, Embassy Tech village, Outer Ring Road, Devarbisanahalli, Varthur, Bengaluru - 560103.\\nGSTIN: 29AAFCB7707D1ZQ\\nThis invoice is issued by Bundl Technologies Private Limited('Swiggy') in compliance with section 9(5) of the CGST Act 2017 and the corresponding Section 5(5) of the \\nIGST Act 2017 read with Notification 17/2021 - Central Tax(rate)\", doc_id='47ca3892-f698-4c8f-a82b-dba1d6133427', embedding=None, doc_hash='106134bdba776675f7b7426b26333b24893150fb8d163cd549942da5eb9a6ff1', extra_info=None, node_info={'start': 0, 'end': 1659}, relationships={<DocumentRelationship.SOURCE: '1'>: '2ba1ce33-c7ad-493d-9e05-658afcf2f5c2'}), score=0.7736721433803523)]\n"
          ]
        }
      ],
      "source": [
        "print(response.get_formatted_sources())\n",
        "print(\"-\"*20)\n",
        "print(response.source_nodes)"
      ]
    },
    {
      "cell_type": "code",
      "execution_count": 24,
      "metadata": {
        "id": "n-MLdcw5uTrN"
      },
      "outputs": [],
      "source": [
        "# convert dictionary string to dictionary\n",
        "res = json.loads(str(response))"
      ]
    },
    {
      "cell_type": "markdown",
      "metadata": {
        "id": "djXG6HrL9bHL"
      },
      "source": [
        "## Loop over all folders and return a DataFrame, \n",
        "Later this can be save as CSV file, pushed to db etc"
      ]
    },
    {
      "cell_type": "code",
      "execution_count": 39,
      "metadata": {
        "id": "3fW5WCFcutDC"
      },
      "outputs": [],
      "source": [
        "# Function to convert dict to dataframe\n",
        "def dictToDataFrame(res) :\n",
        "  list_rec = []\n",
        "\n",
        "  for i in range(len(res['bill_info']['food_items'])):\n",
        "    x = [res['bill_info']['invoice_number'],\n",
        "         res['bill_info']['invoice_date'],\n",
        "         res['bill_info']['restaurant_name'], \n",
        "         res['bill_info']['total_bill'], \n",
        "         res['bill_info']['food_items'][i]['food_item'], \n",
        "         res['bill_info']['food_items'][i]['cost_price']]\n",
        "    list_rec.append(x)\n",
        "    \n",
        "  return pd.DataFrame(list_rec, columns=['invoice_number', 'invoice_date', 'restaurant_name', 'total_bill', 'food_item', 'cost_price'])"
      ]
    },
    {
      "cell_type": "code",
      "execution_count": 27,
      "metadata": {
        "id": "1SP_DJYG-PlN"
      },
      "outputs": [],
      "source": [
        "# define output parser\n",
        "output_parser = GuardrailsOutputParser.from_rail_string(rail_spec, llm=llm_predictor.llm)\n",
        "\n",
        "# format each prompt with output parser instructions\n",
        "fmt_qa_tmpl = output_parser.format(DEFAULT_TEXT_QA_PROMPT_TMPL)\n",
        "fmt_refine_tmpl = output_parser.format(DEFAULT_REFINE_PROMPT_TMPL)\n",
        "\n",
        "qa_prompt = QuestionAnswerPrompt(fmt_qa_tmpl, output_parser=output_parser)\n",
        "refine_prompt = RefinePrompt(fmt_refine_tmpl, output_parser=output_parser)"
      ]
    },
    {
      "cell_type": "code",
      "execution_count": 32,
      "metadata": {
        "colab": {
          "base_uri": "https://localhost:8080/"
        },
        "id": "K9WRVjoZKQlo",
        "outputId": "eeeba143-68a7-4200-bad4-db74e12680f8"
      },
      "outputs": [
        {
          "data": {
            "text/plain": [
              "['zomato1', 'swiggy1', 'zomato2', 'swiggy2', 'zomato3', 'swiggy3']"
            ]
          },
          "execution_count": 32,
          "metadata": {},
          "output_type": "execute_result"
        }
      ],
      "source": [
        "os.listdir('./data')"
      ]
    },
    {
      "cell_type": "markdown",
      "metadata": {
        "id": "tMMzFfafLm_t"
      },
      "source": [
        "## Looping and appending records"
      ]
    },
    {
      "cell_type": "code",
      "execution_count": 36,
      "metadata": {
        "id": "GJzuvhWx9p0U"
      },
      "outputs": [],
      "source": [
        "# Looping over folders\n",
        "folders = os.listdir('./data')\n",
        "#['swiggy1', 'swiggy2', 'swiggy3', 'zomato1', 'zomato2', 'zomato3']\n",
        "\n",
        "df = pd.DataFrame()\n",
        "\n",
        "for f in folders :\n",
        "  documents = SimpleDirectoryReader('./data/'+f).load_data()\n",
        "  index = GPTSimpleVectorIndex.from_documents(documents)\n",
        "\n",
        "  # obtain a structured response\n",
        "  response = index.query(\n",
        "      \"What are the food items purchased and its cost?\", \n",
        "      text_qa_template=qa_prompt, \n",
        "      refine_template=refine_prompt, \n",
        "      #llm_predictor=llm_predictor\n",
        "  )\n",
        "  #print(response)\n",
        "\n",
        "  # convert dictionary string to dictionary\n",
        "  res = json.loads(str(response))\n",
        "\n",
        "  # get transformed df data\n",
        "  df_temp = dictToDataFrame(res)\n",
        "\n",
        "  # append to final df\n",
        "  df = pd.concat([df, df_temp], axis=0, ignore_index=True)\n"
      ]
    },
    {
      "cell_type": "markdown",
      "metadata": {
        "id": "2n8J-fw9Mb88"
      },
      "source": [
        "# Yay!! 💞"
      ]
    },
    {
      "cell_type": "code",
      "execution_count": 40,
      "metadata": {
        "colab": {
          "base_uri": "https://localhost:8080/"
        },
        "id": "5M0r3GLg9pxD",
        "outputId": "cdef91ec-6d57-48d3-867e-c87853803644"
      },
      "outputs": [
        {
          "data": {
            "text/plain": [
              "(14, 6)"
            ]
          },
          "execution_count": 40,
          "metadata": {},
          "output_type": "execute_result"
        }
      ],
      "source": [
        "df.shape"
      ]
    },
    {
      "cell_type": "code",
      "execution_count": 41,
      "metadata": {
        "colab": {
          "base_uri": "https://localhost:8080/",
          "height": 483
        },
        "id": "tnUG_Nje9pua",
        "outputId": "320d85ec-cdab-4265-85d9-31ff8e11af8e"
      },
      "outputs": [
        {
          "data": {
            "text/html": [
              "\n",
              "  <div id=\"df-57c51442-3de0-48e5-939f-e6da69bcfa26\">\n",
              "    <div class=\"colab-df-container\">\n",
              "      <div>\n",
              "<style scoped>\n",
              "    .dataframe tbody tr th:only-of-type {\n",
              "        vertical-align: middle;\n",
              "    }\n",
              "\n",
              "    .dataframe tbody tr th {\n",
              "        vertical-align: top;\n",
              "    }\n",
              "\n",
              "    .dataframe thead th {\n",
              "        text-align: right;\n",
              "    }\n",
              "</style>\n",
              "<table border=\"1\" class=\"dataframe\">\n",
              "  <thead>\n",
              "    <tr style=\"text-align: right;\">\n",
              "      <th></th>\n",
              "      <th>invoice_number</th>\n",
              "      <th>invoice_date</th>\n",
              "      <th>restaurant_name</th>\n",
              "      <th>total_bill</th>\n",
              "      <th>food_item</th>\n",
              "      <th>cost_price</th>\n",
              "    </tr>\n",
              "  </thead>\n",
              "  <tbody>\n",
              "    <tr>\n",
              "      <th>0</th>\n",
              "      <td>23DZFN3Z00000062</td>\n",
              "      <td>2023-04-01</td>\n",
              "      <td>Kolkata Kathi Rolls</td>\n",
              "      <td>128.64</td>\n",
              "      <td>1 x Chicken Dum Biryani</td>\n",
              "      <td>106.58</td>\n",
              "    </tr>\n",
              "    <tr>\n",
              "      <th>1</th>\n",
              "      <td>23DZFN3Z00000062</td>\n",
              "      <td>2023-04-01</td>\n",
              "      <td>Kolkata Kathi Rolls</td>\n",
              "      <td>128.64</td>\n",
              "      <td>1 x Plain Paratha</td>\n",
              "      <td>22.06</td>\n",
              "    </tr>\n",
              "    <tr>\n",
              "      <th>2</th>\n",
              "      <td>0217048033000150</td>\n",
              "      <td>2023-03-30</td>\n",
              "      <td>Chinese BAE</td>\n",
              "      <td>203.70</td>\n",
              "      <td>Veg Schezwan Fried Rice</td>\n",
              "      <td>179.00</td>\n",
              "    </tr>\n",
              "    <tr>\n",
              "      <th>3</th>\n",
              "      <td>0217048033000150</td>\n",
              "      <td>2023-03-30</td>\n",
              "      <td>Chinese BAE</td>\n",
              "      <td>203.70</td>\n",
              "      <td>Order Packing Charges</td>\n",
              "      <td>15.00</td>\n",
              "    </tr>\n",
              "    <tr>\n",
              "      <th>4</th>\n",
              "      <td>4684812609</td>\n",
              "      <td>2023-02-18</td>\n",
              "      <td>Natural Ice Cream</td>\n",
              "      <td>407.04</td>\n",
              "      <td>Tender Coconut Ice Cream</td>\n",
              "      <td>344.92</td>\n",
              "    </tr>\n",
              "    <tr>\n",
              "      <th>5</th>\n",
              "      <td>4684812609</td>\n",
              "      <td>2023-02-18</td>\n",
              "      <td>Natural Ice Cream</td>\n",
              "      <td>407.04</td>\n",
              "      <td>Empty Waffle cone</td>\n",
              "      <td>37.32</td>\n",
              "    </tr>\n",
              "    <tr>\n",
              "      <th>6</th>\n",
              "      <td>162542398027</td>\n",
              "      <td>2023-03-22</td>\n",
              "      <td>ROTTI MANE UTTARA KARNATAKA STORE</td>\n",
              "      <td>330.75</td>\n",
              "      <td>Dal Holige (Obbattu)</td>\n",
              "      <td>157.50</td>\n",
              "    </tr>\n",
              "    <tr>\n",
              "      <th>7</th>\n",
              "      <td>162542398027</td>\n",
              "      <td>2023-03-22</td>\n",
              "      <td>ROTTI MANE UTTARA KARNATAKA STORE</td>\n",
              "      <td>330.75</td>\n",
              "      <td>Coconut Holige (Obbattu)</td>\n",
              "      <td>157.50</td>\n",
              "    </tr>\n",
              "    <tr>\n",
              "      <th>8</th>\n",
              "      <td>4475983444</td>\n",
              "      <td>2022-11-14</td>\n",
              "      <td>Truffles</td>\n",
              "      <td>955.02</td>\n",
              "      <td>Devil's Chicken Sub</td>\n",
              "      <td>157.15</td>\n",
              "    </tr>\n",
              "    <tr>\n",
              "      <th>9</th>\n",
              "      <td>4475983444</td>\n",
              "      <td>2022-11-14</td>\n",
              "      <td>Truffles</td>\n",
              "      <td>955.02</td>\n",
              "      <td>Spaghetti Carbonara Chicken</td>\n",
              "      <td>247.62</td>\n",
              "    </tr>\n",
              "    <tr>\n",
              "      <th>10</th>\n",
              "      <td>4475983444</td>\n",
              "      <td>2022-11-14</td>\n",
              "      <td>Truffles</td>\n",
              "      <td>955.02</td>\n",
              "      <td>Grilled Norwegian Fish Steak</td>\n",
              "      <td>323.81</td>\n",
              "    </tr>\n",
              "    <tr>\n",
              "      <th>11</th>\n",
              "      <td>4475983444</td>\n",
              "      <td>2022-11-14</td>\n",
              "      <td>Truffles</td>\n",
              "      <td>955.02</td>\n",
              "      <td>Chicken Wrap</td>\n",
              "      <td>171.43</td>\n",
              "    </tr>\n",
              "    <tr>\n",
              "      <th>12</th>\n",
              "      <td>0000583032500054</td>\n",
              "      <td>2023-03-25</td>\n",
              "      <td>Hotel Empire</td>\n",
              "      <td>191.94</td>\n",
              "      <td>Empire Spl Chicken Kebab</td>\n",
              "      <td>190.00</td>\n",
              "    </tr>\n",
              "    <tr>\n",
              "      <th>13</th>\n",
              "      <td>0000583032500054</td>\n",
              "      <td>2023-03-25</td>\n",
              "      <td>Hotel Empire</td>\n",
              "      <td>191.94</td>\n",
              "      <td>Order Packing Charges</td>\n",
              "      <td>8.00</td>\n",
              "    </tr>\n",
              "  </tbody>\n",
              "</table>\n",
              "</div>\n",
              "      <button class=\"colab-df-convert\" onclick=\"convertToInteractive('df-57c51442-3de0-48e5-939f-e6da69bcfa26')\"\n",
              "              title=\"Convert this dataframe to an interactive table.\"\n",
              "              style=\"display:none;\">\n",
              "        \n",
              "  <svg xmlns=\"http://www.w3.org/2000/svg\" height=\"24px\"viewBox=\"0 0 24 24\"\n",
              "       width=\"24px\">\n",
              "    <path d=\"M0 0h24v24H0V0z\" fill=\"none\"/>\n",
              "    <path d=\"M18.56 5.44l.94 2.06.94-2.06 2.06-.94-2.06-.94-.94-2.06-.94 2.06-2.06.94zm-11 1L8.5 8.5l.94-2.06 2.06-.94-2.06-.94L8.5 2.5l-.94 2.06-2.06.94zm10 10l.94 2.06.94-2.06 2.06-.94-2.06-.94-.94-2.06-.94 2.06-2.06.94z\"/><path d=\"M17.41 7.96l-1.37-1.37c-.4-.4-.92-.59-1.43-.59-.52 0-1.04.2-1.43.59L10.3 9.45l-7.72 7.72c-.78.78-.78 2.05 0 2.83L4 21.41c.39.39.9.59 1.41.59.51 0 1.02-.2 1.41-.59l7.78-7.78 2.81-2.81c.8-.78.8-2.07 0-2.86zM5.41 20L4 18.59l7.72-7.72 1.47 1.35L5.41 20z\"/>\n",
              "  </svg>\n",
              "      </button>\n",
              "      \n",
              "  <style>\n",
              "    .colab-df-container {\n",
              "      display:flex;\n",
              "      flex-wrap:wrap;\n",
              "      gap: 12px;\n",
              "    }\n",
              "\n",
              "    .colab-df-convert {\n",
              "      background-color: #E8F0FE;\n",
              "      border: none;\n",
              "      border-radius: 50%;\n",
              "      cursor: pointer;\n",
              "      display: none;\n",
              "      fill: #1967D2;\n",
              "      height: 32px;\n",
              "      padding: 0 0 0 0;\n",
              "      width: 32px;\n",
              "    }\n",
              "\n",
              "    .colab-df-convert:hover {\n",
              "      background-color: #E2EBFA;\n",
              "      box-shadow: 0px 1px 2px rgba(60, 64, 67, 0.3), 0px 1px 3px 1px rgba(60, 64, 67, 0.15);\n",
              "      fill: #174EA6;\n",
              "    }\n",
              "\n",
              "    [theme=dark] .colab-df-convert {\n",
              "      background-color: #3B4455;\n",
              "      fill: #D2E3FC;\n",
              "    }\n",
              "\n",
              "    [theme=dark] .colab-df-convert:hover {\n",
              "      background-color: #434B5C;\n",
              "      box-shadow: 0px 1px 3px 1px rgba(0, 0, 0, 0.15);\n",
              "      filter: drop-shadow(0px 1px 2px rgba(0, 0, 0, 0.3));\n",
              "      fill: #FFFFFF;\n",
              "    }\n",
              "  </style>\n",
              "\n",
              "      <script>\n",
              "        const buttonEl =\n",
              "          document.querySelector('#df-57c51442-3de0-48e5-939f-e6da69bcfa26 button.colab-df-convert');\n",
              "        buttonEl.style.display =\n",
              "          google.colab.kernel.accessAllowed ? 'block' : 'none';\n",
              "\n",
              "        async function convertToInteractive(key) {\n",
              "          const element = document.querySelector('#df-57c51442-3de0-48e5-939f-e6da69bcfa26');\n",
              "          const dataTable =\n",
              "            await google.colab.kernel.invokeFunction('convertToInteractive',\n",
              "                                                     [key], {});\n",
              "          if (!dataTable) return;\n",
              "\n",
              "          const docLinkHtml = 'Like what you see? Visit the ' +\n",
              "            '<a target=\"_blank\" href=https://colab.research.google.com/notebooks/data_table.ipynb>data table notebook</a>'\n",
              "            + ' to learn more about interactive tables.';\n",
              "          element.innerHTML = '';\n",
              "          dataTable['output_type'] = 'display_data';\n",
              "          await google.colab.output.renderOutput(dataTable, element);\n",
              "          const docLink = document.createElement('div');\n",
              "          docLink.innerHTML = docLinkHtml;\n",
              "          element.appendChild(docLink);\n",
              "        }\n",
              "      </script>\n",
              "    </div>\n",
              "  </div>\n",
              "  "
            ],
            "text/plain": [
              "      invoice_number invoice_date                    restaurant_name  \\\n",
              "0   23DZFN3Z00000062   2023-04-01                Kolkata Kathi Rolls   \n",
              "1   23DZFN3Z00000062   2023-04-01                Kolkata Kathi Rolls   \n",
              "2   0217048033000150   2023-03-30                        Chinese BAE   \n",
              "3   0217048033000150   2023-03-30                        Chinese BAE   \n",
              "4         4684812609   2023-02-18                  Natural Ice Cream   \n",
              "5         4684812609   2023-02-18                  Natural Ice Cream   \n",
              "6       162542398027   2023-03-22  ROTTI MANE UTTARA KARNATAKA STORE   \n",
              "7       162542398027   2023-03-22  ROTTI MANE UTTARA KARNATAKA STORE   \n",
              "8         4475983444   2022-11-14                           Truffles   \n",
              "9         4475983444   2022-11-14                           Truffles   \n",
              "10        4475983444   2022-11-14                           Truffles   \n",
              "11        4475983444   2022-11-14                           Truffles   \n",
              "12  0000583032500054   2023-03-25                       Hotel Empire   \n",
              "13  0000583032500054   2023-03-25                       Hotel Empire   \n",
              "\n",
              "    total_bill                     food_item  cost_price  \n",
              "0       128.64       1 x Chicken Dum Biryani      106.58  \n",
              "1       128.64             1 x Plain Paratha       22.06  \n",
              "2       203.70       Veg Schezwan Fried Rice      179.00  \n",
              "3       203.70         Order Packing Charges       15.00  \n",
              "4       407.04      Tender Coconut Ice Cream      344.92  \n",
              "5       407.04             Empty Waffle cone       37.32  \n",
              "6       330.75          Dal Holige (Obbattu)      157.50  \n",
              "7       330.75      Coconut Holige (Obbattu)      157.50  \n",
              "8       955.02           Devil's Chicken Sub      157.15  \n",
              "9       955.02   Spaghetti Carbonara Chicken      247.62  \n",
              "10      955.02  Grilled Norwegian Fish Steak      323.81  \n",
              "11      955.02                  Chicken Wrap      171.43  \n",
              "12      191.94      Empire Spl Chicken Kebab      190.00  \n",
              "13      191.94         Order Packing Charges        8.00  "
            ]
          },
          "execution_count": 41,
          "metadata": {},
          "output_type": "execute_result"
        }
      ],
      "source": [
        "df"
      ]
    },
    {
      "cell_type": "code",
      "execution_count": 129,
      "metadata": {
        "id": "zvq6raPhCMme"
      },
      "outputs": [],
      "source": []
    }
  ],
  "metadata": {
    "colab": {
      "provenance": []
    },
    "kernelspec": {
      "display_name": "Python 3.8.2 64-bit",
      "language": "python",
      "name": "python3"
    },
    "language_info": {
      "name": "python",
      "version": "3.8.2"
    },
    "vscode": {
      "interpreter": {
        "hash": "31f2aee4e71d21fbe5cf8b01ff0e069b9275f58929596ceb00d14d90e3e16cd6"
      }
    }
  },
  "nbformat": 4,
  "nbformat_minor": 0
}
